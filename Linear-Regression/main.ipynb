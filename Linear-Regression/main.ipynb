{
 "cells": [
  {
   "cell_type": "code",
   "execution_count": 38,
   "metadata": {},
   "outputs": [],
   "source": [
    "import pandas as pd\n",
    "import numpy as np\n",
    "\n",
    "from sklearn import linear_model\n",
    "from sklearn.utils import shuffle\n",
    "from sklearn.model_selection import train_test_split"
   ]
  },
  {
   "cell_type": "code",
   "execution_count": 39,
   "metadata": {},
   "outputs": [
    {
     "data": {
      "text/html": [
       "<div>\n",
       "<style scoped>\n",
       "    .dataframe tbody tr th:only-of-type {\n",
       "        vertical-align: middle;\n",
       "    }\n",
       "\n",
       "    .dataframe tbody tr th {\n",
       "        vertical-align: top;\n",
       "    }\n",
       "\n",
       "    .dataframe thead th {\n",
       "        text-align: right;\n",
       "    }\n",
       "</style>\n",
       "<table border=\"1\" class=\"dataframe\">\n",
       "  <thead>\n",
       "    <tr style=\"text-align: right;\">\n",
       "      <th></th>\n",
       "      <th>school</th>\n",
       "      <th>sex</th>\n",
       "      <th>age</th>\n",
       "      <th>address</th>\n",
       "      <th>famsize</th>\n",
       "      <th>Pstatus</th>\n",
       "      <th>Medu</th>\n",
       "      <th>Fedu</th>\n",
       "      <th>Mjob</th>\n",
       "      <th>Fjob</th>\n",
       "      <th>...</th>\n",
       "      <th>famrel</th>\n",
       "      <th>freetime</th>\n",
       "      <th>goout</th>\n",
       "      <th>Dalc</th>\n",
       "      <th>Walc</th>\n",
       "      <th>health</th>\n",
       "      <th>absences</th>\n",
       "      <th>G1</th>\n",
       "      <th>G2</th>\n",
       "      <th>G3</th>\n",
       "    </tr>\n",
       "  </thead>\n",
       "  <tbody>\n",
       "    <tr>\n",
       "      <th>0</th>\n",
       "      <td>GP</td>\n",
       "      <td>F</td>\n",
       "      <td>18</td>\n",
       "      <td>U</td>\n",
       "      <td>GT3</td>\n",
       "      <td>A</td>\n",
       "      <td>4</td>\n",
       "      <td>4</td>\n",
       "      <td>at_home</td>\n",
       "      <td>teacher</td>\n",
       "      <td>...</td>\n",
       "      <td>4</td>\n",
       "      <td>3</td>\n",
       "      <td>4</td>\n",
       "      <td>1</td>\n",
       "      <td>1</td>\n",
       "      <td>3</td>\n",
       "      <td>6</td>\n",
       "      <td>5</td>\n",
       "      <td>6</td>\n",
       "      <td>6</td>\n",
       "    </tr>\n",
       "    <tr>\n",
       "      <th>1</th>\n",
       "      <td>GP</td>\n",
       "      <td>F</td>\n",
       "      <td>17</td>\n",
       "      <td>U</td>\n",
       "      <td>GT3</td>\n",
       "      <td>T</td>\n",
       "      <td>1</td>\n",
       "      <td>1</td>\n",
       "      <td>at_home</td>\n",
       "      <td>other</td>\n",
       "      <td>...</td>\n",
       "      <td>5</td>\n",
       "      <td>3</td>\n",
       "      <td>3</td>\n",
       "      <td>1</td>\n",
       "      <td>1</td>\n",
       "      <td>3</td>\n",
       "      <td>4</td>\n",
       "      <td>5</td>\n",
       "      <td>5</td>\n",
       "      <td>6</td>\n",
       "    </tr>\n",
       "    <tr>\n",
       "      <th>2</th>\n",
       "      <td>GP</td>\n",
       "      <td>F</td>\n",
       "      <td>15</td>\n",
       "      <td>U</td>\n",
       "      <td>LE3</td>\n",
       "      <td>T</td>\n",
       "      <td>1</td>\n",
       "      <td>1</td>\n",
       "      <td>at_home</td>\n",
       "      <td>other</td>\n",
       "      <td>...</td>\n",
       "      <td>4</td>\n",
       "      <td>3</td>\n",
       "      <td>2</td>\n",
       "      <td>2</td>\n",
       "      <td>3</td>\n",
       "      <td>3</td>\n",
       "      <td>10</td>\n",
       "      <td>7</td>\n",
       "      <td>8</td>\n",
       "      <td>10</td>\n",
       "    </tr>\n",
       "    <tr>\n",
       "      <th>3</th>\n",
       "      <td>GP</td>\n",
       "      <td>F</td>\n",
       "      <td>15</td>\n",
       "      <td>U</td>\n",
       "      <td>GT3</td>\n",
       "      <td>T</td>\n",
       "      <td>4</td>\n",
       "      <td>2</td>\n",
       "      <td>health</td>\n",
       "      <td>services</td>\n",
       "      <td>...</td>\n",
       "      <td>3</td>\n",
       "      <td>2</td>\n",
       "      <td>2</td>\n",
       "      <td>1</td>\n",
       "      <td>1</td>\n",
       "      <td>5</td>\n",
       "      <td>2</td>\n",
       "      <td>15</td>\n",
       "      <td>14</td>\n",
       "      <td>15</td>\n",
       "    </tr>\n",
       "    <tr>\n",
       "      <th>4</th>\n",
       "      <td>GP</td>\n",
       "      <td>F</td>\n",
       "      <td>16</td>\n",
       "      <td>U</td>\n",
       "      <td>GT3</td>\n",
       "      <td>T</td>\n",
       "      <td>3</td>\n",
       "      <td>3</td>\n",
       "      <td>other</td>\n",
       "      <td>other</td>\n",
       "      <td>...</td>\n",
       "      <td>4</td>\n",
       "      <td>3</td>\n",
       "      <td>2</td>\n",
       "      <td>1</td>\n",
       "      <td>2</td>\n",
       "      <td>5</td>\n",
       "      <td>4</td>\n",
       "      <td>6</td>\n",
       "      <td>10</td>\n",
       "      <td>10</td>\n",
       "    </tr>\n",
       "  </tbody>\n",
       "</table>\n",
       "<p>5 rows × 33 columns</p>\n",
       "</div>"
      ],
      "text/plain": [
       "  school sex  age address famsize Pstatus  Medu  Fedu     Mjob      Fjob  ...  \\\n",
       "0     GP   F   18       U     GT3       A     4     4  at_home   teacher  ...   \n",
       "1     GP   F   17       U     GT3       T     1     1  at_home     other  ...   \n",
       "2     GP   F   15       U     LE3       T     1     1  at_home     other  ...   \n",
       "3     GP   F   15       U     GT3       T     4     2   health  services  ...   \n",
       "4     GP   F   16       U     GT3       T     3     3    other     other  ...   \n",
       "\n",
       "  famrel freetime  goout  Dalc  Walc health absences  G1  G2  G3  \n",
       "0      4        3      4     1     1      3        6   5   6   6  \n",
       "1      5        3      3     1     1      3        4   5   5   6  \n",
       "2      4        3      2     2     3      3       10   7   8  10  \n",
       "3      3        2      2     1     1      5        2  15  14  15  \n",
       "4      4        3      2     1     2      5        4   6  10  10  \n",
       "\n",
       "[5 rows x 33 columns]"
      ]
     },
     "execution_count": 39,
     "metadata": {},
     "output_type": "execute_result"
    }
   ],
   "source": [
    "df = pd.read_csv('./data/student-mat.csv',sep=';')\n",
    "\n",
    "df.head()"
   ]
  },
  {
   "cell_type": "code",
   "execution_count": 40,
   "metadata": {},
   "outputs": [
    {
     "name": "stdout",
     "output_type": "stream",
     "text": [
      "<class 'pandas.core.frame.DataFrame'>\n",
      "RangeIndex: 395 entries, 0 to 394\n",
      "Data columns (total 33 columns):\n",
      " #   Column      Non-Null Count  Dtype \n",
      "---  ------      --------------  ----- \n",
      " 0   school      395 non-null    object\n",
      " 1   sex         395 non-null    object\n",
      " 2   age         395 non-null    int64 \n",
      " 3   address     395 non-null    object\n",
      " 4   famsize     395 non-null    object\n",
      " 5   Pstatus     395 non-null    object\n",
      " 6   Medu        395 non-null    int64 \n",
      " 7   Fedu        395 non-null    int64 \n",
      " 8   Mjob        395 non-null    object\n",
      " 9   Fjob        395 non-null    object\n",
      " 10  reason      395 non-null    object\n",
      " 11  guardian    395 non-null    object\n",
      " 12  traveltime  395 non-null    int64 \n",
      " 13  studytime   395 non-null    int64 \n",
      " 14  failures    395 non-null    int64 \n",
      " 15  schoolsup   395 non-null    object\n",
      " 16  famsup      395 non-null    object\n",
      " 17  paid        395 non-null    object\n",
      " 18  activities  395 non-null    object\n",
      " 19  nursery     395 non-null    object\n",
      " 20  higher      395 non-null    object\n",
      " 21  internet    395 non-null    object\n",
      " 22  romantic    395 non-null    object\n",
      " 23  famrel      395 non-null    int64 \n",
      " 24  freetime    395 non-null    int64 \n",
      " 25  goout       395 non-null    int64 \n",
      " 26  Dalc        395 non-null    int64 \n",
      " 27  Walc        395 non-null    int64 \n",
      " 28  health      395 non-null    int64 \n",
      " 29  absences    395 non-null    int64 \n",
      " 30  G1          395 non-null    int64 \n",
      " 31  G2          395 non-null    int64 \n",
      " 32  G3          395 non-null    int64 \n",
      "dtypes: int64(16), object(17)\n",
      "memory usage: 102.0+ KB\n"
     ]
    }
   ],
   "source": [
    "df.info()"
   ]
  },
  {
   "cell_type": "code",
   "execution_count": 41,
   "metadata": {},
   "outputs": [],
   "source": [
    "features = ['G1','G2','G3','studytime','failures','absences']\n",
    "predict = 'G3'\n",
    "\n",
    "df = df[features]\n",
    "\n",
    "\n",
    "X = np.array(df.drop(predict,axis=1))\n",
    "\n",
    "y = np.array(df[predict])"
   ]
  },
  {
   "cell_type": "code",
   "execution_count": 42,
   "metadata": {},
   "outputs": [],
   "source": [
    "x_train,x_test,y_train,y_test = train_test_split(X,y,test_size=0.1)"
   ]
  },
  {
   "cell_type": "code",
   "execution_count": 43,
   "metadata": {},
   "outputs": [
    {
     "name": "stdout",
     "output_type": "stream",
     "text": [
      "Efficiancy 0.8795978301112638\n"
     ]
    }
   ],
   "source": [
    "linear = linear_model.LinearRegression()\n",
    "\n",
    "linear.fit(x_train,y_train)\n",
    "\n",
    "efficiancy = linear.score(x_test,y_test)\n",
    "\n",
    "print(f'Efficiancy {efficiancy}')"
   ]
  },
  {
   "cell_type": "code",
   "execution_count": 44,
   "metadata": {},
   "outputs": [
    {
     "name": "stdout",
     "output_type": "stream",
     "text": [
      "Coefficients: [ 0.16345981  0.97566917 -0.18688794 -0.23331601  0.03559756]\n",
      "Interceptor: -1.5808531710460922\n"
     ]
    }
   ],
   "source": [
    "print(f'Coefficients: {linear.coef_}')\n",
    "print(f'Interceptor: {linear.intercept_}')\n"
   ]
  },
  {
   "cell_type": "code",
   "execution_count": 45,
   "metadata": {},
   "outputs": [
    {
     "name": "stdout",
     "output_type": "stream",
     "text": [
      "Predicted score: 5.968075363948822, Actual score: 7\n",
      "Predicted score: 6.1564613701662445, Actual score: 8\n",
      "Predicted score: 19.925835103873837, Actual score: 19\n",
      "Predicted score: 15.13230570382421, Actual score: 15\n",
      "Predicted score: 10.810444694528794, Actual score: 12\n",
      "Predicted score: 18.54079250049275, Actual score: 19\n",
      "Predicted score: 9.436660787696342, Actual score: 10\n",
      "Predicted score: 11.808522365371166, Actual score: 12\n",
      "Predicted score: 14.183333934447639, Actual score: 14\n",
      "Predicted score: 10.973904504636282, Actual score: 11\n",
      "Predicted score: -0.973870183914465, Actual score: 0\n",
      "Predicted score: 9.2764702546812, Actual score: 11\n",
      "Predicted score: 14.635271656708712, Actual score: 13\n",
      "Predicted score: 10.26194620240704, Actual score: 11\n",
      "Predicted score: 7.6581075303564905, Actual score: 7\n",
      "Predicted score: 11.045099618135671, Actual score: 11\n",
      "Predicted score: 13.040935674129715, Actual score: 12\n",
      "Predicted score: 7.677838198849626, Actual score: 8\n",
      "Predicted score: 4.930270385184721, Actual score: 6\n",
      "Predicted score: 8.276462221362054, Actual score: 10\n",
      "Predicted score: 12.343937638557462, Actual score: 13\n",
      "Predicted score: 7.088546622361381, Actual score: 0\n",
      "Predicted score: -0.7869822471578111, Actual score: 0\n",
      "Predicted score: 7.158402821245192, Actual score: 9\n",
      "Predicted score: 7.903114528912431, Actual score: 8\n",
      "Predicted score: 15.040041007216109, Actual score: 15\n",
      "Predicted score: 8.34529879132099, Actual score: 8\n",
      "Predicted score: 14.828814210258395, Actual score: 15\n",
      "Predicted score: 3.6711596726846585, Actual score: 0\n",
      "Predicted score: 6.04597124176113, Actual score: 7\n",
      "Predicted score: 10.762677707678568, Actual score: 12\n",
      "Predicted score: 9.34439609108824, Actual score: 9\n",
      "Predicted score: 6.385488473140321, Actual score: 8\n",
      "Predicted score: 14.0166048472478, Actual score: 14\n",
      "Predicted score: 6.369621584883761, Actual score: 6\n",
      "Predicted score: 7.622509973606796, Actual score: 8\n",
      "Predicted score: 8.025774087418071, Actual score: 8\n",
      "Predicted score: 13.352413531868782, Actual score: 14\n",
      "Predicted score: 6.182733648127107, Actual score: 8\n",
      "Predicted score: 9.694743837952384, Actual score: 10\n"
     ]
    }
   ],
   "source": [
    "predicted_scores = linear.predict(x_test)\n",
    "\n",
    "for i in range(len(predicted_scores)):\n",
    "    print(f'Predicted score: {predicted_scores[i]}, Actual score: {y_test[i]}')"
   ]
  },
  {
   "cell_type": "code",
   "execution_count": 46,
   "metadata": {},
   "outputs": [],
   "source": [
    "# Saving algorithm\n",
    "import pickle\n",
    "\n",
    "with open('Linear-regression.pickle','wb') as f:\n",
    "    pickle.dump(linear,f)\n",
    "\n",
    "    "
   ]
  },
  {
   "cell_type": "code",
   "execution_count": 47,
   "metadata": {},
   "outputs": [
    {
     "name": "stdout",
     "output_type": "stream",
     "text": [
      "Predicted score: 5.968075363948822, Actual score: 7\n",
      "Predicted score: 6.1564613701662445, Actual score: 8\n",
      "Predicted score: 19.925835103873837, Actual score: 19\n",
      "Predicted score: 15.13230570382421, Actual score: 15\n",
      "Predicted score: 10.810444694528794, Actual score: 12\n",
      "Predicted score: 18.54079250049275, Actual score: 19\n",
      "Predicted score: 9.436660787696342, Actual score: 10\n",
      "Predicted score: 11.808522365371166, Actual score: 12\n",
      "Predicted score: 14.183333934447639, Actual score: 14\n",
      "Predicted score: 10.973904504636282, Actual score: 11\n",
      "Predicted score: -0.973870183914465, Actual score: 0\n",
      "Predicted score: 9.2764702546812, Actual score: 11\n",
      "Predicted score: 14.635271656708712, Actual score: 13\n",
      "Predicted score: 10.26194620240704, Actual score: 11\n",
      "Predicted score: 7.6581075303564905, Actual score: 7\n",
      "Predicted score: 11.045099618135671, Actual score: 11\n",
      "Predicted score: 13.040935674129715, Actual score: 12\n",
      "Predicted score: 7.677838198849626, Actual score: 8\n",
      "Predicted score: 4.930270385184721, Actual score: 6\n",
      "Predicted score: 8.276462221362054, Actual score: 10\n",
      "Predicted score: 12.343937638557462, Actual score: 13\n",
      "Predicted score: 7.088546622361381, Actual score: 0\n",
      "Predicted score: -0.7869822471578111, Actual score: 0\n",
      "Predicted score: 7.158402821245192, Actual score: 9\n",
      "Predicted score: 7.903114528912431, Actual score: 8\n",
      "Predicted score: 15.040041007216109, Actual score: 15\n",
      "Predicted score: 8.34529879132099, Actual score: 8\n",
      "Predicted score: 14.828814210258395, Actual score: 15\n",
      "Predicted score: 3.6711596726846585, Actual score: 0\n",
      "Predicted score: 6.04597124176113, Actual score: 7\n",
      "Predicted score: 10.762677707678568, Actual score: 12\n",
      "Predicted score: 9.34439609108824, Actual score: 9\n",
      "Predicted score: 6.385488473140321, Actual score: 8\n",
      "Predicted score: 14.0166048472478, Actual score: 14\n",
      "Predicted score: 6.369621584883761, Actual score: 6\n",
      "Predicted score: 7.622509973606796, Actual score: 8\n",
      "Predicted score: 8.025774087418071, Actual score: 8\n",
      "Predicted score: 13.352413531868782, Actual score: 14\n",
      "Predicted score: 6.182733648127107, Actual score: 8\n",
      "Predicted score: 9.694743837952384, Actual score: 10\n"
     ]
    }
   ],
   "source": [
    "pickle_input = open('./Linear-regression.pickle','rb')\n",
    "saved_linear = pickle.load(pickle_input)\n",
    "\n",
    "predicted_scores_saved = linear.predict(x_test)\n",
    "\n",
    "for i in range(len(predicted_scores_saved)):\n",
    "    print(f'Predicted score: {predicted_scores_saved[i]}, Actual score: {y_test[i]}')"
   ]
  },
  {
   "cell_type": "code",
   "execution_count": 48,
   "metadata": {},
   "outputs": [
    {
     "data": {
      "image/png": "[encoded data removed]",
      "text/plain": [
       "<Figure size 1800x600 with 6 Axes>"
      ]
     },
     "metadata": {},
     "output_type": "display_data"
    }
   ],
   "source": [
    "import matplotlib.pyplot as plt\n",
    "import seaborn as sns\n",
    "\n",
    "fig, axs = plt.subplots(ncols=len(features), figsize=(18, 6))\n",
    "for feature_index in range(len(features)):\n",
    "    sns.scatterplot(x=features[feature_index],y=predict,data=df,ax=axs[feature_index])"
   ]
  },
  {
   "cell_type": "code",
   "execution_count": null,
   "metadata": {},
   "outputs": [],
   "source": []
  }
 ],
 "metadata": {
  "kernelspec": {
   "display_name": "Python 3",
   "language": "python",
   "name": "python3"
  },
  "language_info": {
   "codemirror_mode": {
    "name": "ipython",
    "version": 3
   },
   "file_extension": ".py",
   "mimetype": "text/x-python",
   "name": "python",
   "nbconvert_exporter": "python",
   "pygments_lexer": "ipython3",
   "version": "3.12.3"
  }
 },
 "nbformat": 4,
 "nbformat_minor": 2
}
